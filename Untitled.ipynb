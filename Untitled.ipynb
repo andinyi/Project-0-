{
 "cells": [
  {
   "cell_type": "markdown",
   "id": "d91de7a2",
   "metadata": {},
   "source": [
    "0000 = 0\n",
    "0001 = 1\n",
    "0010 = 2\n",
    "0011 = 3\n",
    "0100 = 4\n",
    "\n",
    "string = \"hello world\"\n",
    "\"h\" = some_byte_code"
   ]
  },
  {
   "cell_type": "code",
   "execution_count": 1,
   "id": "2c8de07c",
   "metadata": {},
   "outputs": [],
   "source": [
    "bit = 0 / 1"
   ]
  },
  {
   "cell_type": "markdown",
   "id": "2e469862",
   "metadata": {},
   "source": [
    "byte = 8 bits = 00000001"
   ]
  },
  {
   "cell_type": "markdown",
   "id": "7e2bff61",
   "metadata": {},
   "source": [
    "kilobyte = 1000 bytes\n"
   ]
  },
  {
   "cell_type": "code",
   "execution_count": 2,
   "id": "c567137a",
   "metadata": {},
   "outputs": [],
   "source": [
    "var = 3 "
   ]
  },
  {
   "cell_type": "code",
   "execution_count": 3,
   "id": "c0964bc0",
   "metadata": {},
   "outputs": [
    {
     "data": {
      "text/plain": [
       "3"
      ]
     },
     "execution_count": 3,
     "metadata": {},
     "output_type": "execute_result"
    }
   ],
   "source": [
    "var "
   ]
  },
  {
   "cell_type": "code",
   "execution_count": 4,
   "id": "0e381b04",
   "metadata": {},
   "outputs": [
    {
     "data": {
      "text/plain": [
       "2"
      ]
     },
     "execution_count": 4,
     "metadata": {},
     "output_type": "execute_result"
    }
   ],
   "source": [
    "var - 1"
   ]
  },
  {
   "cell_type": "code",
   "execution_count": 5,
   "id": "d6d4f684",
   "metadata": {},
   "outputs": [],
   "source": [
    "var = \"3\""
   ]
  },
  {
   "cell_type": "code",
   "execution_count": 6,
   "id": "939fd62b",
   "metadata": {},
   "outputs": [
    {
     "data": {
      "text/plain": [
       "'3'"
      ]
     },
     "execution_count": 6,
     "metadata": {},
     "output_type": "execute_result"
    }
   ],
   "source": [
    "var"
   ]
  },
  {
   "cell_type": "code",
   "execution_count": 7,
   "id": "9f95e2b6",
   "metadata": {},
   "outputs": [
    {
     "ename": "TypeError",
     "evalue": "unsupported operand type(s) for -: 'str' and 'int'",
     "output_type": "error",
     "traceback": [
      "\u001b[1;31m---------------------------------------------------------------------------\u001b[0m",
      "\u001b[1;31mTypeError\u001b[0m                                 Traceback (most recent call last)",
      "Input \u001b[1;32mIn [7]\u001b[0m, in \u001b[0;36m<cell line: 1>\u001b[1;34m()\u001b[0m\n\u001b[1;32m----> 1\u001b[0m \u001b[43mvar\u001b[49m\u001b[43m \u001b[49m\u001b[38;5;241;43m-\u001b[39;49m\u001b[43m \u001b[49m\u001b[38;5;241;43m1\u001b[39;49m\n",
      "\u001b[1;31mTypeError\u001b[0m: unsupported operand type(s) for -: 'str' and 'int'"
     ]
    }
   ],
   "source": [
    "var - 1"
   ]
  },
  {
   "cell_type": "code",
   "execution_count": 8,
   "id": "19d1cc0b",
   "metadata": {},
   "outputs": [],
   "source": [
    "var = \"They have 2 children\"\n"
   ]
  },
  {
   "cell_type": "code",
   "execution_count": 9,
   "id": "1b27e56c",
   "metadata": {},
   "outputs": [
    {
     "data": {
      "text/plain": [
       "'They have 2 children'"
      ]
     },
     "execution_count": 9,
     "metadata": {},
     "output_type": "execute_result"
    }
   ],
   "source": [
    "var"
   ]
  },
  {
   "cell_type": "code",
   "execution_count": 10,
   "id": "d14440a3",
   "metadata": {},
   "outputs": [],
   "source": [
    "var = 19 "
   ]
  },
  {
   "cell_type": "code",
   "execution_count": 11,
   "id": "8086c21f",
   "metadata": {},
   "outputs": [],
   "source": [
    "var2 = 10 \n"
   ]
  },
  {
   "cell_type": "code",
   "execution_count": 12,
   "id": "a13a59aa",
   "metadata": {},
   "outputs": [
    {
     "data": {
      "text/plain": [
       "9"
      ]
     },
     "execution_count": 12,
     "metadata": {},
     "output_type": "execute_result"
    }
   ],
   "source": [
    "var - var2"
   ]
  },
  {
   "cell_type": "code",
   "execution_count": 13,
   "id": "b002ac6a",
   "metadata": {},
   "outputs": [],
   "source": [
    "var2 = 4"
   ]
  },
  {
   "cell_type": "code",
   "execution_count": 14,
   "id": "5baf0022",
   "metadata": {},
   "outputs": [
    {
     "data": {
      "text/plain": [
       "15"
      ]
     },
     "execution_count": 14,
     "metadata": {},
     "output_type": "execute_result"
    }
   ],
   "source": [
    "var - var2"
   ]
  },
  {
   "cell_type": "code",
   "execution_count": 15,
   "id": "d11ab3a8",
   "metadata": {},
   "outputs": [],
   "source": [
    "varSum = var + var2"
   ]
  },
  {
   "cell_type": "code",
   "execution_count": 16,
   "id": "efebe51b",
   "metadata": {},
   "outputs": [
    {
     "data": {
      "text/plain": [
       "23"
      ]
     },
     "execution_count": 16,
     "metadata": {},
     "output_type": "execute_result"
    }
   ],
   "source": [
    "varSum "
   ]
  },
  {
   "cell_type": "code",
   "execution_count": 17,
   "id": "64e345ed",
   "metadata": {},
   "outputs": [],
   "source": [
    "var1 = 14 "
   ]
  },
  {
   "cell_type": "code",
   "execution_count": 18,
   "id": "185b60f5",
   "metadata": {},
   "outputs": [
    {
     "data": {
      "text/plain": [
       "23"
      ]
     },
     "execution_count": 18,
     "metadata": {},
     "output_type": "execute_result"
    }
   ],
   "source": [
    "varSum"
   ]
  },
  {
   "cell_type": "code",
   "execution_count": 19,
   "id": "d54bf67e",
   "metadata": {},
   "outputs": [],
   "source": [
    "var = 14 \n"
   ]
  },
  {
   "cell_type": "code",
   "execution_count": 20,
   "id": "6bf9722f",
   "metadata": {},
   "outputs": [
    {
     "data": {
      "text/plain": [
       "23"
      ]
     },
     "execution_count": 20,
     "metadata": {},
     "output_type": "execute_result"
    }
   ],
   "source": [
    "varSum "
   ]
  },
  {
   "cell_type": "code",
   "execution_count": 21,
   "id": "b8b01470",
   "metadata": {},
   "outputs": [],
   "source": [
    "varSum = var + var2\n"
   ]
  },
  {
   "cell_type": "code",
   "execution_count": 22,
   "id": "81e8b416",
   "metadata": {},
   "outputs": [
    {
     "data": {
      "text/plain": [
       "18"
      ]
     },
     "execution_count": 22,
     "metadata": {},
     "output_type": "execute_result"
    }
   ],
   "source": [
    "varSum"
   ]
  },
  {
   "cell_type": "raw",
   "id": "18d9a00d",
   "metadata": {},
   "source": []
  },
  {
   "cell_type": "code",
   "execution_count": null,
   "id": "2e374850",
   "metadata": {},
   "outputs": [],
   "source": []
  },
  {
   "cell_type": "code",
   "execution_count": 23,
   "id": "db883953",
   "metadata": {},
   "outputs": [],
   "source": [
    "randomVariable = 1"
   ]
  },
  {
   "cell_type": "code",
   "execution_count": 24,
   "id": "8d451b58",
   "metadata": {},
   "outputs": [],
   "source": [
    "randomVariable = 3 "
   ]
  },
  {
   "cell_type": "code",
   "execution_count": 29,
   "id": "9e8f76fe",
   "metadata": {},
   "outputs": [],
   "source": [
    "def s(num):\n",
    "    return num * (num - 1)"
   ]
  },
  {
   "cell_type": "code",
   "execution_count": 30,
   "id": "80e5c408",
   "metadata": {},
   "outputs": [
    {
     "data": {
      "text/plain": [
       "56"
      ]
     },
     "execution_count": 30,
     "metadata": {},
     "output_type": "execute_result"
    }
   ],
   "source": [
    "s(8)"
   ]
  },
  {
   "cell_type": "code",
   "execution_count": 31,
   "id": "af0f1a91",
   "metadata": {},
   "outputs": [
    {
     "data": {
      "text/plain": [
       "90"
      ]
     },
     "execution_count": 31,
     "metadata": {},
     "output_type": "execute_result"
    }
   ],
   "source": [
    "s(10)"
   ]
  },
  {
   "cell_type": "code",
   "execution_count": 32,
   "id": "bd8f894b",
   "metadata": {},
   "outputs": [
    {
     "data": {
      "text/plain": [
       "306"
      ]
     },
     "execution_count": 32,
     "metadata": {},
     "output_type": "execute_result"
    }
   ],
   "source": [
    "s(varSum)"
   ]
  },
  {
   "cell_type": "code",
   "execution_count": 33,
   "id": "3764a3d8",
   "metadata": {},
   "outputs": [
    {
     "ename": "TypeError",
     "evalue": "unsupported operand type(s) for -: 'str' and 'int'",
     "output_type": "error",
     "traceback": [
      "\u001b[1;31m---------------------------------------------------------------------------\u001b[0m",
      "\u001b[1;31mTypeError\u001b[0m                                 Traceback (most recent call last)",
      "Input \u001b[1;32mIn [33]\u001b[0m, in \u001b[0;36m<cell line: 1>\u001b[1;34m()\u001b[0m\n\u001b[1;32m----> 1\u001b[0m \u001b[43ms\u001b[49m\u001b[43m(\u001b[49m\u001b[38;5;124;43m\"\u001b[39;49m\u001b[38;5;124;43m3\u001b[39;49m\u001b[38;5;124;43m\"\u001b[39;49m\u001b[43m)\u001b[49m\n",
      "Input \u001b[1;32mIn [29]\u001b[0m, in \u001b[0;36ms\u001b[1;34m(num)\u001b[0m\n\u001b[0;32m      1\u001b[0m \u001b[38;5;28;01mdef\u001b[39;00m \u001b[38;5;21ms\u001b[39m(num):\n\u001b[1;32m----> 2\u001b[0m     \u001b[38;5;28;01mreturn\u001b[39;00m num \u001b[38;5;241m*\u001b[39m (\u001b[43mnum\u001b[49m\u001b[43m \u001b[49m\u001b[38;5;241;43m-\u001b[39;49m\u001b[43m \u001b[49m\u001b[38;5;241;43m1\u001b[39;49m)\n",
      "\u001b[1;31mTypeError\u001b[0m: unsupported operand type(s) for -: 'str' and 'int'"
     ]
    }
   ],
   "source": [
    "s(\"3\")"
   ]
  },
  {
   "cell_type": "code",
   "execution_count": 34,
   "id": "a7c8fdc4",
   "metadata": {},
   "outputs": [
    {
     "data": {
      "text/plain": [
       "0"
      ]
     },
     "execution_count": 34,
     "metadata": {},
     "output_type": "execute_result"
    }
   ],
   "source": [
    "s(0)"
   ]
  },
  {
   "cell_type": "code",
   "execution_count": 35,
   "id": "5531f0cc",
   "metadata": {},
   "outputs": [
    {
     "data": {
      "text/plain": [
       "9900"
      ]
     },
     "execution_count": 35,
     "metadata": {},
     "output_type": "execute_result"
    }
   ],
   "source": [
    "s(-99)"
   ]
  },
  {
   "cell_type": "code",
   "execution_count": 36,
   "id": "c7aa2f42",
   "metadata": {},
   "outputs": [],
   "source": [
    "listOfInts = [1, 4, 6, 9, 13]"
   ]
  },
  {
   "cell_type": "code",
   "execution_count": 37,
   "id": "7564991b",
   "metadata": {},
   "outputs": [
    {
     "data": {
      "text/plain": [
       "[1, 4, 6, 9, 13]"
      ]
     },
     "execution_count": 37,
     "metadata": {},
     "output_type": "execute_result"
    }
   ],
   "source": [
    "listOfInts"
   ]
  },
  {
   "cell_type": "code",
   "execution_count": 38,
   "id": "e6a6ef33",
   "metadata": {},
   "outputs": [
    {
     "data": {
      "text/plain": [
       "1"
      ]
     },
     "execution_count": 38,
     "metadata": {},
     "output_type": "execute_result"
    }
   ],
   "source": [
    "listOfInts[0]"
   ]
  },
  {
   "cell_type": "code",
   "execution_count": 39,
   "id": "e787a1ec",
   "metadata": {},
   "outputs": [],
   "source": [
    "listOfInts[0] = 9 "
   ]
  },
  {
   "cell_type": "code",
   "execution_count": 40,
   "id": "e2c1f042",
   "metadata": {},
   "outputs": [
    {
     "data": {
      "text/plain": [
       "9"
      ]
     },
     "execution_count": 40,
     "metadata": {},
     "output_type": "execute_result"
    }
   ],
   "source": [
    "listOfInts[0]"
   ]
  },
  {
   "cell_type": "code",
   "execution_count": 41,
   "id": "a8021685",
   "metadata": {},
   "outputs": [
    {
     "data": {
      "text/plain": [
       "[9, 4, 6, 9, 13]"
      ]
     },
     "execution_count": 41,
     "metadata": {},
     "output_type": "execute_result"
    }
   ],
   "source": [
    "listOfInts"
   ]
  },
  {
   "cell_type": "code",
   "execution_count": 42,
   "id": "4892edc4",
   "metadata": {},
   "outputs": [
    {
     "data": {
      "text/plain": [
       "13"
      ]
     },
     "execution_count": 42,
     "metadata": {},
     "output_type": "execute_result"
    }
   ],
   "source": [
    "listOfInts[len(listOfInts) - 1]"
   ]
  },
  {
   "cell_type": "code",
   "execution_count": 43,
   "id": "7a11422c",
   "metadata": {},
   "outputs": [
    {
     "data": {
      "text/plain": [
       "6"
      ]
     },
     "execution_count": 43,
     "metadata": {},
     "output_type": "execute_result"
    }
   ],
   "source": [
    "listOfInts[5]"
   ]
  },
  {
   "cell_type": "code",
   "execution_count": 44,
   "id": "e96078e7",
   "metadata": {},
   "outputs": [
    {
     "ename": "IndexError",
     "evalue": "list index out of range",
     "output_type": "error",
     "traceback": [
      "\u001b[1;31m---------------------------------------------------------------------------\u001b[0m",
      "\u001b[1;31mIndexError\u001b[0m                                Traceback (most recent call last)",
      "Input \u001b[1;32mIn [44]\u001b[0m, in \u001b[0;36m<cell line: 1>\u001b[1;34m()\u001b[0m\n\u001b[1;32m----> 1\u001b[0m \u001b[43mlistOfInts\u001b[49m\u001b[43m[\u001b[49m\u001b[38;5;241;43m5\u001b[39;49m\u001b[43m]\u001b[49m\n",
      "\u001b[1;31mIndexError\u001b[0m: list index out of range"
     ]
    }
   ],
   "source": [
    "listOfInts[5]"
   ]
  },
  {
   "cell_type": "code",
   "execution_count": 45,
   "id": "530e6229",
   "metadata": {},
   "outputs": [
    {
     "data": {
      "text/plain": [
       "[9, 4, 6]"
      ]
     },
     "execution_count": 45,
     "metadata": {},
     "output_type": "execute_result"
    }
   ],
   "source": [
    "listOfInts[0:3]"
   ]
  },
  {
   "cell_type": "code",
   "execution_count": 46,
   "id": "2e56ef9e",
   "metadata": {},
   "outputs": [
    {
     "data": {
      "text/plain": [
       "[9, 4, 6]"
      ]
     },
     "execution_count": 46,
     "metadata": {},
     "output_type": "execute_result"
    }
   ],
   "source": [
    "listOfInts[:3]"
   ]
  },
  {
   "cell_type": "code",
   "execution_count": 47,
   "id": "f9c3e92b",
   "metadata": {},
   "outputs": [
    {
     "data": {
      "text/plain": [
       "[9, 6, 13]"
      ]
     },
     "execution_count": 47,
     "metadata": {},
     "output_type": "execute_result"
    }
   ],
   "source": [
    "listOfInts[::2]"
   ]
  },
  {
   "cell_type": "code",
   "execution_count": 48,
   "id": "8cc57c81",
   "metadata": {},
   "outputs": [
    {
     "data": {
      "text/plain": [
       "[6, 13]"
      ]
     },
     "execution_count": 48,
     "metadata": {},
     "output_type": "execute_result"
    }
   ],
   "source": [
    "listOfInts[2::2]"
   ]
  },
  {
   "cell_type": "code",
   "execution_count": 49,
   "id": "d2328713",
   "metadata": {},
   "outputs": [
    {
     "data": {
      "text/plain": [
       "[9, 4, 6, 9, 13]"
      ]
     },
     "execution_count": 49,
     "metadata": {},
     "output_type": "execute_result"
    }
   ],
   "source": [
    "listOfInts"
   ]
  },
  {
   "cell_type": "code",
   "execution_count": 50,
   "id": "3cb9c351",
   "metadata": {},
   "outputs": [],
   "source": [
    "listOfInts[0] = 1"
   ]
  },
  {
   "cell_type": "code",
   "execution_count": 51,
   "id": "a0796d38",
   "metadata": {},
   "outputs": [
    {
     "data": {
      "text/plain": [
       "[1, 4, 6, 9, 13]"
      ]
     },
     "execution_count": 51,
     "metadata": {},
     "output_type": "execute_result"
    }
   ],
   "source": [
    "listOfInts"
   ]
  },
  {
   "cell_type": "code",
   "execution_count": 52,
   "id": "3afdbac6",
   "metadata": {},
   "outputs": [
    {
     "name": "stdout",
     "output_type": "stream",
     "text": [
      "1\n",
      "4\n",
      "6\n",
      "9\n",
      "13\n"
     ]
    }
   ],
   "source": [
    "for i in listOfInts:\n",
    "    print(i)"
   ]
  },
  {
   "cell_type": "code",
   "execution_count": 53,
   "id": "266be40a",
   "metadata": {},
   "outputs": [
    {
     "name": "stdout",
     "output_type": "stream",
     "text": [
      "1\n",
      "4\n",
      "6\n",
      "9\n",
      "13\n"
     ]
    }
   ],
   "source": [
    "for penis in listOfInts:\n",
    "    print(penis)"
   ]
  },
  {
   "cell_type": "code",
   "execution_count": 54,
   "id": "fb3066a1",
   "metadata": {},
   "outputs": [
    {
     "name": "stdout",
     "output_type": "stream",
     "text": [
      "1\n",
      "4\n",
      "6\n",
      "9\n",
      "13\n"
     ]
    }
   ],
   "source": [
    "for i in listOfInts:\n",
    "    print(i)"
   ]
  },
  {
   "cell_type": "code",
   "execution_count": 55,
   "id": "16dd2baf",
   "metadata": {},
   "outputs": [],
   "source": [
    "for i in listOfInts:\n",
    "    s(i)"
   ]
  },
  {
   "cell_type": "code",
   "execution_count": null,
   "id": "2b844a37",
   "metadata": {},
   "outputs": [],
   "source": [
    "for i in listOfInts:\n",
    "    s(i)"
   ]
  }
 ],
 "metadata": {
  "kernelspec": {
   "display_name": "Python 3 (ipykernel)",
   "language": "python",
   "name": "python3"
  },
  "language_info": {
   "codemirror_mode": {
    "name": "ipython",
    "version": 3
   },
   "file_extension": ".py",
   "mimetype": "text/x-python",
   "name": "python",
   "nbconvert_exporter": "python",
   "pygments_lexer": "ipython3",
   "version": "3.10.5"
  }
 },
 "nbformat": 4,
 "nbformat_minor": 5
}
